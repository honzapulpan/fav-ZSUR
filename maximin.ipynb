{
 "cells": [
  {
   "cell_type": "markdown",
   "metadata": {},
   "source": [
    "- na straně 158\n",
    "- při \"špatně\" vybraném bodu to může dát drobně špatný výsledek (občas háže 3 místo 4) (!!!! asi ne, bylo to nejspíš tím, že jsem z dat nemazal v cyklu použité mí\n",
    "- jinak je ale velmi rychlý"
   ]
  },
  {
   "cell_type": "code",
   "execution_count": 3,
   "metadata": {},
   "outputs": [
    {
     "name": "stdout",
     "output_type": "stream",
     "text": [
      "4\n",
      "[array([-4.598985, -4.366733]), array([6.046712, 3.857171]), array([-3.091966,  4.713977]), array([ 3.757235, -4.21938 ])]\n"
     ]
    }
   ],
   "source": [
    "from tools import dist_v, dist_m, metric\n",
    "\n",
    "def maximin(data):\n",
    "    #definice konstanty\n",
    "    q = 0.5\n",
    "\n",
    "    #volím náhodně jeden obraz = 1. střední hodnota\n",
    "    mi = []\n",
    "    mi0_ind = np.random.randint(data_len) \n",
    "    mi.append(data[mi0_ind])\n",
    "    data = np.delete(data, mi0_ind, 0)\n",
    "\n",
    "    mi1_ind = np.argmax(dist_v(data,mi[0]), axis=None)\n",
    "    mi.append(data[mi1_ind])\n",
    "    data = np.delete(data, mi1_ind, 0)\n",
    "\n",
    "    d_max=1.\n",
    "    d_test=0.\n",
    "\n",
    "    while d_max > d_test:\n",
    "        dist_vectors = []\n",
    "        for i in range(0,len(mi)):\n",
    "            dist_vectors.append(dist_v(data,mi[i]))\n",
    "\n",
    "        min_vector = dist_vectors[0]    \n",
    "        for i in range(1,len(mi)):\n",
    "            min_vector = np.minimum(min_vector, dist_vectors[i]) \n",
    "\n",
    "        d_max_ind = np.argmax(min_vector)    \n",
    "        d_max = min_vector[d_max_ind]\n",
    "\n",
    "        d_count = 1.0\n",
    "        d_val = 0.0\n",
    "        for i in range(0,len(mi)-1):\n",
    "            for j in range(i+1,len(mi)):\n",
    "                d_val = d_val + metric(mi[i],mi[j])\n",
    "                d_count += 1\n",
    "        d_test = q * d_val / d_count\n",
    "\n",
    "\n",
    "        if d_test <= d_max:\n",
    "            mi.append(data[d_max_ind])\n",
    "            data = np.delete(data, d_max_ind, 0)\n",
    "\n",
    "    #print(len(mi))\n",
    "    #print(mi)\n",
    "    return len(mi)"
   ]
  },
  {
   "cell_type": "code",
   "execution_count": null,
   "metadata": {},
   "outputs": [],
   "source": []
  }
 ],
 "metadata": {
  "kernelspec": {
   "display_name": "Python 3",
   "language": "python",
   "name": "python3"
  },
  "language_info": {
   "codemirror_mode": {
    "name": "ipython",
    "version": 3
   },
   "file_extension": ".py",
   "mimetype": "text/x-python",
   "name": "python",
   "nbconvert_exporter": "python",
   "pygments_lexer": "ipython3",
   "version": "3.6.4"
  }
 },
 "nbformat": 4,
 "nbformat_minor": 2
}
