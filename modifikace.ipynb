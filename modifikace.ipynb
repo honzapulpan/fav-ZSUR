{
 "cells": [
  {
   "cell_type": "code",
   "execution_count": null,
   "metadata": {},
   "outputs": [],
   "source": [
    "#################################\n",
    "# pootočení dat o pi/4\n",
    "#data_temp = np.zeros(data.shape)\n",
    "#data_temp[:,0] = np.linalg.norm(data,axis=1)\n",
    "#data_temp[:,1] = np.arctan2(data[:,1], data[:,0]) #np.arccos(data[:,0]/data_temp[:,0])\n",
    "\n",
    "#data_temp[:,1] = data_temp[:,1] + np.pi/4\n",
    "\n",
    "##data_temp2 = np.zeros(data.shape)\n",
    "##data_temp2[:,0] = 2*data_temp[:,0]*np.cos(data_temp[:,1])\n",
    "##data_temp2[:,1] = 2*data_temp[:,0]*np.sin(data_temp[:,1])\n",
    "##data_temp2 = data_temp2 + np.array([12,10])\n",
    "\n",
    "\n",
    "#data[:,0] = 2*data_temp[:,0]*np.cos(data_temp[:,1])\n",
    "#data[:,1] = 2*data_temp[:,0]*np.sin(data_temp[:,1])\n",
    "#data = data + np.array([12,10])\n",
    "\n",
    "\n",
    "# konec pootočení\n",
    "\n",
    "#data = np.concatenate((data, data_temp2), axis=0)\n",
    "\n",
    "###############################\n",
    "\n",
    "\n",
    "#histogram (určení rozdělení odhadem :-) jednotlivých tříd\n",
    "\n",
    "for i in range(cl_nb):\n",
    "    plt.hist(np.linalg.norm(data_classified[i], axis=1))\n",
    "    plt.show"
   ]
  }
 ],
 "metadata": {
  "kernelspec": {
   "display_name": "Python 3",
   "language": "python",
   "name": "python3"
  },
  "language_info": {
   "codemirror_mode": {
    "name": "ipython",
    "version": 3
   },
   "file_extension": ".py",
   "mimetype": "text/x-python",
   "name": "python",
   "nbconvert_exporter": "python",
   "pygments_lexer": "ipython3",
   "version": "3.6.4"
  }
 },
 "nbformat": 4,
 "nbformat_minor": 2
}
