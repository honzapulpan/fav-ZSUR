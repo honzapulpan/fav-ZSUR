{
 "cells": [
  {
   "cell_type": "code",
   "execution_count": null,
   "metadata": {},
   "outputs": [],
   "source": [
    "import numpy as np\n",
    "\n",
    "def dist_m(data):\n",
    "    \n",
    "    dl = len(data)\n",
    "    dm = np.zeros((dl,dl))\n",
    "\n",
    "    for i in range(0,dl):\n",
    "       dm[i,:] = np.sum((data-data[i,:])**2, axis=1)\n",
    "\n",
    "    np.fill_diagonal(dm, np.nan)\n",
    "    \n",
    "    return dm"
   ]
  }
 ],
 "metadata": {
  "kernelspec": {
   "display_name": "Python 3",
   "language": "python",
   "name": "python3"
  },
  "language_info": {
   "codemirror_mode": {
    "name": "ipython",
    "version": 3
   },
   "file_extension": ".py",
   "mimetype": "text/x-python",
   "name": "python",
   "nbconvert_exporter": "python",
   "pygments_lexer": "ipython3",
   "version": "3.6.4"
  }
 },
 "nbformat": 4,
 "nbformat_minor": 2
}
