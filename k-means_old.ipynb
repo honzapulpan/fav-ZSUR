{
 "cells": [
  {
   "cell_type": "markdown",
   "metadata": {},
   "source": [
    "- na straně 135\n",
    "- občas klasifikuje špatně, jednu třidu rozdělí na 2 a 2 naopak spojí"
   ]
  },
  {
   "cell_type": "code",
   "execution_count": 57,
   "metadata": {},
   "outputs": [
    {
     "data": {
      "text/plain": [
       "<matplotlib.lines.Line2D at 0x10e042b70>"
      ]
     },
     "execution_count": 57,
     "metadata": {},
     "output_type": "execute_result"
    },
    {
     "data": {
      "image/png": "[encoded data removed]",
      "text/plain": [
       "<Figure size 720x720 with 1 Axes>"
      ]
     },
     "metadata": {},
     "output_type": "display_data"
    }
   ],
   "source": [
    "import numpy as np\n",
    "import matplotlib.pyplot as plt\n",
    "\n",
    "plt.rcParams['figure.figsize'] = [10, 10]\n",
    "\n",
    "data = np.genfromtxt('data4.txt', delimiter=' ')\n",
    "data_len = len(data)\n",
    "\n",
    "plt.scatter(data[:,0],data[:,1], color='navy', marker='x')\n",
    "plt.grid(True, which='both')\n",
    "plt.axhline(y=0, color='gray')\n",
    "plt.axvline(x=0, color='gray')"
   ]
  },
  {
   "cell_type": "code",
   "execution_count": 61,
   "metadata": {},
   "outputs": [
    {
     "name": "stdout",
     "output_type": "stream",
     "text": [
      "[1127.6045895956704, 372.642395098726, 278.9776316483636, 278.9776316483636]\n"
     ]
    },
    {
     "data": {
      "image/png": "[encoded data removed]",
      "text/plain": [
       "<Figure size 720x720 with 1 Axes>"
      ]
     },
     "metadata": {},
     "output_type": "display_data"
    }
   ],
   "source": [
    "from tools import dist_v\n",
    "\n",
    "# počet tříd, do kterých klasifikuji\n",
    "cl_nb = 4\n",
    "\n",
    "# ukazatel kvality (na jeho základě rozhoduji o zastavení iterací)\n",
    "J = []\n",
    "eps = 1.e-03\n",
    "\n",
    "#matice vzdáleností v rámci tříd (třídy=sloupce)\n",
    "dist_cl = np.full((len(data),cl_nb),np.inf)\n",
    "\n",
    "mi = data[np.random.choice(data_len, 4, replace=False)]    \n",
    "\n",
    "for j in range(0,16):\n",
    "    #výpočet metrik v rámci tříd\n",
    "    for i in range(0,cl_nb):\n",
    "        dist_cl[:,i]=dist_v(data,mi[i])\n",
    "\n",
    "    #klasifikace dat do tříd (vektor velikosti data s hodnotou = index třídy)\n",
    "    data_cl = np.argmin(dist_cl,axis=1)\n",
    "\n",
    "    # výpočet nových centroidů\n",
    "    mi = []\n",
    "    J_temp = 0\n",
    "    for i in range(0,cl_nb):\n",
    "        J_temp += np.sum(dist_cl[np.where(data_cl==i),i])\n",
    "        mi.append(np.average(data[np.where(data_cl==i),:],axis=1))\n",
    "    J.append(J_temp)\n",
    "    if len(J) > 1 and np.abs(J[j]-J[j-1]) < eps:\n",
    "            break\n",
    "\n",
    "print(J)\n",
    "\n",
    "# vrátit roztříděná data v nějaké formě - možná bude stačit ten vektor s roztříděním\n",
    "\n",
    "#vykreslit data do tříd s různějma barvama\n",
    "plt_col = ['red','green','blue','orange']\n",
    "for i in range(0,cl_nb):\n",
    "    plt.scatter(data[np.where(data_cl==i),0],data[np.where(data_cl==i),1], color=plt_col[i], marker='x')\n",
    "plt.grid(True, which='both')\n",
    "plt.axhline(y=0, color='gray')\n",
    "plt.axvline(x=0, color='gray')\n",
    "plt.show()"
   ]
  },
  {
   "cell_type": "code",
   "execution_count": 63,
   "metadata": {},
   "outputs": [
    {
     "name": "stdout",
     "output_type": "stream",
     "text": [
      "[[ 3.182162  3.053727]\n",
      " [-3.578107  1.830114]\n",
      " [ 3.535814 -3.620164]\n",
      " [ 2.337798  3.016283]]\n",
      "---\n",
      "[[27.06268215 24.86080364 44.54895254 43.01813289]\n",
      " [42.11310213 38.32925409 55.0671364  42.78018625]\n",
      " [46.75250501 42.50539428 55.73977863 39.037741  ]\n",
      " [43.52557167 39.626654   53.54728073 38.79468526]\n",
      " [50.34577326 45.75638013 54.16093275 33.2772618 ]\n",
      " [37.45165111 34.17197414 51.40117185 41.85846435]\n",
      " [27.27289987 25.02432293 46.10326681 45.47356406]\n",
      " [34.32834506 31.40749805 47.323868   38.70122577]\n",
      " [53.77250156 48.79101046 58.07540891 36.09152926]\n",
      " [39.96641336 36.42918082 52.48560434 40.84228324]\n",
      " [32.854262   30.09023693 46.16159197 38.51093833]\n",
      " [50.74620101 46.10082559 55.56405912 35.00388439]]\n",
      "[1 1 3 3 3 1 1 1 3 1 1 3]\n",
      "[[7.80350179e+01 9.12823947e+01 2.93975002e+01 1.65517597e+00]\n",
      " [7.94558367e+01 9.29254240e+01 3.01380319e+01 1.81791816e+00]\n",
      " [1.81675350e+01 2.06093583e+01 2.26622052e+00 5.12112956e+01]\n",
      " [2.31765516e+01 2.65836180e+01 5.62898349e-01 4.06876854e+01]\n",
      " [2.42883319e+01 2.75833121e+01 2.31356507e+00 5.23801478e+01]\n",
      " [2.24604912e+01 2.60201509e+01 0.00000000e+00 3.08427038e+01]\n",
      " [6.05921062e+01 7.12398932e+01 2.50596968e+01 0.00000000e+00]\n",
      " [1.91477963e+01 2.19477503e+01 7.48038033e-01 4.17919775e+01]\n",
      " [1.00233190e+02 1.16763013e+02 3.70964857e+01 6.98018502e+00]\n",
      " [6.15900314e+01 7.24267219e+01 2.66457473e+01 4.52578888e-02]\n",
      " [6.39770048e+01 7.51896190e+01 2.77579267e+01 8.59728491e-02]\n",
      " [7.78595248e+01 9.10856950e+01 2.94768849e+01 1.58867931e+00]\n",
      " [2.15568773e+01 2.48794392e+01 9.98544520e-02 3.47998698e+01]\n",
      " [2.16412060e+01 2.42396449e+01 5.88524425e+00 6.74822776e+01]\n",
      " [6.19834545e+01 7.28765420e+01 2.66213975e+01 3.53023359e-02]\n",
      " [7.98612130e+01 9.34135735e+01 3.08878447e+01 1.72873950e+00]\n",
      " [2.74861528e+01 3.17841909e+01 2.06456200e-01 3.06092876e+01]\n",
      " [1.96185224e+01 2.25995461e+01 2.96342651e-01 3.72308888e+01]\n",
      " [4.69343082e+01 5.54475367e+01 2.03765436e+01 9.36302447e-01]\n",
      " [2.29552074e+01 2.65057613e+01 6.07952114e-02 3.38186980e+01]]\n",
      "[3 3 2 2 2 2 3 2 3 3 3 3 2 2 3 3 2 2 3 2]\n",
      "[[ 62.98149238  67.21713701 131.40451559  31.11603822]\n",
      " [ 55.19116745  59.01245846 125.32374289  33.44867406]\n",
      " [ 56.30459342  60.18249921 126.97381228  33.62889214]]\n",
      "[3 3 3]\n",
      "[[7.37060942e-01 6.18065101e-01 2.47642379e+01 8.74645155e+01]\n",
      " [1.90758795e-02 0.00000000e+00 1.85393575e+01 7.38304347e+01]\n",
      " [6.74583354e-01 5.58948344e-01 2.44297927e+01 8.67867781e+01]\n",
      " [0.00000000e+00 1.96814630e-02 1.82491491e+01 7.16088527e+01]\n",
      " [3.93222143e-01 3.39315006e-01 1.50806105e+01 7.18149720e+01]\n",
      " [2.07447238e+00 1.91506552e+00 3.02430535e+01 9.84010135e+01]\n",
      " [5.09093952e-01 3.86285936e-01 2.30907051e+01 8.51889567e+01]\n",
      " [1.81003353e+00 1.73960644e+00 2.99882567e+01 9.34412660e+01]\n",
      " [6.13776658e-01 4.54696928e-01 2.28130549e+01 8.67327329e+01]\n",
      " [4.29644017e-01 3.33469085e-01 2.30168583e+01 8.37069200e+01]\n",
      " [4.29337114e+00 4.16278897e+00 3.72167146e+01 1.09396427e+02]\n",
      " [7.37674538e+00 7.25450040e+00 4.45290747e+01 1.23225944e+02]]\n",
      "[1 1 1 0 1 1 1 1 1 1 1 1]\n"
     ]
    }
   ],
   "source": [
    "#### !!!!!! nedaří se mi iterativní optimalizaci použít. Mě to z ní vypadává optimální ke zvoleným středům\n",
    "#### !!! pokud si napískám náhodně jiné středy, tak by se to přesouvat chtělo. Ale to bych dělat neměl\n",
    "\n",
    "\n",
    "from tools import metric\n",
    "#provedu iterativní optimalizaci:\n",
    "    # vstupy: třídy dat Ti, jejich centroidy mii, četnosti si a hodnota kriteriální funkce J\n",
    "    # procházet všechny prvky všech tříd (postupně) a pokoušet se je přeřadit do tříd ostatních\n",
    "    # kritérium je poměrně jednoduché porovnávám pokles a nárůst \n",
    "    # pokud vyhoví kritériu, tak přesunu a jedu dál\n",
    "\n",
    "print(mi)\n",
    "print(\"---\")\n",
    "T = []    \n",
    "s = []\n",
    "#mi = data[np.random.choice(data_len, 4, replace=False)]  \n",
    "\n",
    "for i in range(cl_nb):\n",
    "    T.append(data[np.where(data_cl==i),:])\n",
    "    s.append(len(T[i][0]))\n",
    "    #mi.append(np.average(T[i][0],axis=0))\n",
    "#print(s)\n",
    "#print(J[-1:])\n",
    "#print(mi)\n",
    "#print(\"---\")\n",
    "#print(s[i]/(s[i]-1))\n",
    "\n",
    "for i in range(cl_nb):\n",
    "#i = 2\n",
    "    #for j in range(s[i]):\n",
    " #   Ai_v = s[i]/(s[i]-1)*dist_v(T[i][0],mi[i])\n",
    " #   Aj_v = []\n",
    " #   for j in range(cl_nb):\n",
    "  #      Aj_vs.append(s[j]/(s[j]+1)*dist_v(T[i][0],mi[j]))\n",
    "\n",
    "    \n",
    "    #s se esmí rovna 1 (jen jeden prvek ve třídě) - jinak bych dělil 0\n",
    "    \n",
    "\n",
    "# pole vzdáleností prvků i-té třídy od středů všech tříd\n",
    "\n",
    "    Aj_vs = np.full((s[i],cl_nb),np.inf)\n",
    "    for j in range(0,cl_nb):\n",
    "        if i==j:\n",
    "            coef = s[j]/(s[j]-1)\n",
    "        else:\n",
    "            coef = s[j]/(s[j]+1)\n",
    "        #print(coef)\n",
    "        Aj_vs[:,j]=coef * dist_v(T[i][0],mi[j])\n",
    "        #print(dist_v(T[i][0],mi[j]))\n",
    "        #print(Aj_vs[:,j])\n",
    "\n",
    "    print(Aj_vs)    \n",
    "    #maska kam přesunout jaké body\n",
    "    move_mask = np.argmin(Aj_vs,axis=1)\n",
    "\n",
    "\n",
    "    print(move_mask)\n",
    "    #for k\n",
    "    "
   ]
  },
  {
   "cell_type": "code",
   "execution_count": 28,
   "metadata": {},
   "outputs": [
    {
     "ename": "TypeError",
     "evalue": "unsupported operand type(s) for -: 'range' and 'int'",
     "output_type": "error",
     "traceback": [
      "\u001b[0;31m---------------------------------------------------------------------------\u001b[0m",
      "\u001b[0;31mTypeError\u001b[0m                                 Traceback (most recent call last)",
      "\u001b[0;32m<ipython-input-28-921befaba202>\u001b[0m in \u001b[0;36m<module>\u001b[0;34m()\u001b[0m\n\u001b[0;32m----> 1\u001b[0;31m \u001b[0ma\u001b[0m \u001b[0;34m=\u001b[0m \u001b[0mrange\u001b[0m\u001b[0;34m(\u001b[0m\u001b[0;36m0\u001b[0m\u001b[0;34m,\u001b[0m\u001b[0;36m4\u001b[0m\u001b[0;34m)\u001b[0m\u001b[0;34m-\u001b[0m\u001b[0;36m1\u001b[0m\u001b[0;34m\u001b[0m\u001b[0m\n\u001b[0m\u001b[1;32m      2\u001b[0m \u001b[0mprint\u001b[0m\u001b[0;34m(\u001b[0m\u001b[0ma\u001b[0m\u001b[0;34m)\u001b[0m\u001b[0;34m\u001b[0m\u001b[0m\n",
      "\u001b[0;31mTypeError\u001b[0m: unsupported operand type(s) for -: 'range' and 'int'"
     ]
    }
   ],
   "source": [
    "a = range(0,4)-1\n",
    "print(a)"
   ]
  },
  {
   "cell_type": "code",
   "execution_count": null,
   "metadata": {},
   "outputs": [],
   "source": []
  }
 ],
 "metadata": {
  "kernelspec": {
   "display_name": "Python 3",
   "language": "python",
   "name": "python3"
  },
  "language_info": {
   "codemirror_mode": {
    "name": "ipython",
    "version": 3
   },
   "file_extension": ".py",
   "mimetype": "text/x-python",
   "name": "python",
   "nbconvert_exporter": "python",
   "pygments_lexer": "ipython3",
   "version": "3.6.4"
  }
 },
 "nbformat": 4,
 "nbformat_minor": 2
}
